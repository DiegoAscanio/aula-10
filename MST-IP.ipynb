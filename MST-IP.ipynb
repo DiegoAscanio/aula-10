{
 "cells": [
  {
   "cell_type": "markdown",
   "id": "89229b04",
   "metadata": {},
   "source": [
    "# Setup"
   ]
  },
  {
   "cell_type": "code",
   "execution_count": 1,
   "id": "d5b9365d",
   "metadata": {},
   "outputs": [],
   "source": [
    "import numpy as np\n",
    "from ortools.linear_solver import pywraplp\n",
    "solver = pywraplp.Solver.CreateSolver('SCIP')"
   ]
  },
  {
   "cell_type": "markdown",
   "id": "ad10ad7d",
   "metadata": {},
   "source": [
    "# Definindo as variáveis"
   ]
  },
  {
   "cell_type": "code",
   "execution_count": 10,
   "id": "d908aec7",
   "metadata": {},
   "outputs": [],
   "source": [
    "cidades = ['D', 'M', 'G', 'J', 'P']\n",
    "distancias = np.array(\n",
    "    [[0,467,340,327,358],\n",
    "     [467,0,497,677,843],\n",
    "     [340,497,0,454,762],\n",
    "     [327,677,454,0,441],\n",
    "     [358,843,762,441,0]]\n",
    ")\n",
    "N = distancias.shape[0]\n",
    "X = {}\n",
    "for i in range(N):\n",
    "    for j in range(N):\n",
    "        X[i,j] = solver.IntVar(0, 1, 'X_[{},{}]'.format(i, j))"
   ]
  },
  {
   "cell_type": "markdown",
   "id": "ec4c893b",
   "metadata": {},
   "source": [
    "# Adicionando restricao de $n - 1$ caminhos"
   ]
  },
  {
   "cell_type": "code",
   "execution_count": 3,
   "id": "5ebe451c",
   "metadata": {},
   "outputs": [
    {
     "data": {
      "text/plain": [
       "<ortools.linear_solver.pywraplp.Constraint; proxy of <Swig Object of type 'operations_research::MPConstraint *' at 0x7fc36c9d7f00> >"
      ]
     },
     "execution_count": 3,
     "metadata": {},
     "output_type": "execute_result"
    }
   ],
   "source": [
    "solver.Add(sum([X[i,j] for i in range(N) for j in range(N)]) == N - 1)"
   ]
  },
  {
   "cell_type": "markdown",
   "id": "4e455250",
   "metadata": {},
   "source": [
    "# Adicionando restrições contra ciclos"
   ]
  },
  {
   "cell_type": "code",
   "execution_count": 4,
   "id": "c7bb2843",
   "metadata": {},
   "outputs": [],
   "source": [
    "# definindo a funcao para gerar subconjuntos validos, onde S != {} e S != cidades\n",
    "from itertools import chain, combinations\n",
    "def subconjuntos_validos(iterable):\n",
    "    \"subconjuntos_validos([1,2,3]) --> (1,) (2,) (3,) (1,2) (1,3) (2,3)\"\n",
    "    s = list(iterable)\n",
    "    return chain.from_iterable(combinations(s, r) for r in range(1, len(s)))\n",
    "\n",
    "# definindo o conjunto de partes\n",
    "conjunto_de_partes = subconjuntos_validos(range(len(cidades)))\n",
    "\n",
    "# iterando em cada subconjunto e adicionando a restrição\n",
    "# sum(X_ij) <= |S| - 1\n",
    "for S in conjunto_de_partes:\n",
    "    solver.Add(sum([X[i,j] for j in S for i in S]) <= len(S) - 1)\n",
    "            "
   ]
  },
  {
   "cell_type": "markdown",
   "id": "fcd1ae72",
   "metadata": {},
   "source": [
    "# Adicionando Função Objetivo"
   ]
  },
  {
   "cell_type": "code",
   "execution_count": 5,
   "id": "126cd7f7",
   "metadata": {},
   "outputs": [],
   "source": [
    "solver.Minimize(solver.Sum([distancias[i][j] * X[i, j] for i in range(N) for j in range(N)]))"
   ]
  },
  {
   "cell_type": "markdown",
   "id": "06807671",
   "metadata": {},
   "source": [
    "# Resolvendo o problema"
   ]
  },
  {
   "cell_type": "code",
   "execution_count": 6,
   "id": "13608d84",
   "metadata": {},
   "outputs": [
    {
     "name": "stdout",
     "output_type": "stream",
     "text": [
      "Conexão: D - M, custo: 467\n",
      "Conexão: D - G, custo: 340\n",
      "Conexão: D - J, custo: 327\n",
      "Conexão: P - D, custo: 358\n",
      "Custo total: 1492.0\n"
     ]
    }
   ],
   "source": [
    "status = solver.Solve()\n",
    "if status == pywraplp.Solver.OPTIMAL:\n",
    "    for i in range(N):\n",
    "        for j in range(N):\n",
    "            if X[i,j].solution_value() == 1: # o caminho está na AGM\n",
    "                print('Conexão: {} - {}, custo: {}'.format(cidades[i], cidades[j], distancias[i][j]))\n",
    "    print('Custo total: {}'.format(solver.Objective().Value()))\n",
    "else:\n",
    "    print('Não existe árvore geradora mínima')"
   ]
  }
 ],
 "metadata": {
  "kernelspec": {
   "display_name": "Python 3 (ipykernel)",
   "language": "python",
   "name": "python3"
  },
  "language_info": {
   "codemirror_mode": {
    "name": "ipython",
    "version": 3
   },
   "file_extension": ".py",
   "mimetype": "text/x-python",
   "name": "python",
   "nbconvert_exporter": "python",
   "pygments_lexer": "ipython3",
   "version": "3.11.3"
  }
 },
 "nbformat": 4,
 "nbformat_minor": 5
}
