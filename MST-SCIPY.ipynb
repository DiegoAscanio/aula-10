{
 "cells": [
  {
   "cell_type": "markdown",
   "id": "89229b04",
   "metadata": {},
   "source": [
    "# Setup"
   ]
  },
  {
   "cell_type": "code",
   "execution_count": 1,
   "id": "d5b9365d",
   "metadata": {},
   "outputs": [],
   "source": [
    "import pdb\n",
    "import numpy as np\n",
    "from scipy.sparse import csr_matrix\n",
    "from scipy.sparse.csgraph import minimum_spanning_tree"
   ]
  },
  {
   "cell_type": "markdown",
   "id": "ad10ad7d",
   "metadata": {},
   "source": [
    "# Definindo as variáveis"
   ]
  },
  {
   "cell_type": "code",
   "execution_count": 2,
   "id": "d908aec7",
   "metadata": {},
   "outputs": [],
   "source": [
    "cidades = ['D', 'M', 'G', 'J', 'P']\n",
    "distancias = np.array(\n",
    "    [[0,467,340,327,358],\n",
    "     [467,0,497,677,843],\n",
    "     [340,497,0,454,762],\n",
    "     [327,677,454,0,441],\n",
    "     [358,843,762,441,0]]\n",
    ")"
   ]
  },
  {
   "cell_type": "markdown",
   "id": "06807671",
   "metadata": {},
   "source": [
    "# Resolvendo o problema pela biblioteca de Arvore Geradora Minima do SciPY"
   ]
  },
  {
   "cell_type": "code",
   "execution_count": 3,
   "id": "13608d84",
   "metadata": {},
   "outputs": [
    {
     "name": "stdout",
     "output_type": "stream",
     "text": [
      "Árvore Geradora Mínima:\n",
      "  (0, 1)\t467.0\n",
      "  (0, 2)\t340.0\n",
      "  (0, 3)\t327.0\n",
      "  (0, 4)\t358.0\n",
      "Custo total da Árvore:\n",
      "1492.0\n"
     ]
    }
   ],
   "source": [
    "MST = minimum_spanning_tree(distancias)\n",
    "print('Árvore Geradora Mínima:')\n",
    "print(MST)\n",
    "print('Custo total da Árvore:')\n",
    "print(MST.sum())"
   ]
  }
 ],
 "metadata": {
  "kernelspec": {
   "display_name": "Python 3 (ipykernel)",
   "language": "python",
   "name": "python3"
  },
  "language_info": {
   "codemirror_mode": {
    "name": "ipython",
    "version": 3
   },
   "file_extension": ".py",
   "mimetype": "text/x-python",
   "name": "python",
   "nbconvert_exporter": "python",
   "pygments_lexer": "ipython3",
   "version": "3.11.3"
  }
 },
 "nbformat": 4,
 "nbformat_minor": 5
}
